{
  "nbformat": 4,
  "nbformat_minor": 0,
  "metadata": {
    "colab": {
      "name": "Shabd_EDA.ipynb",
      "provenance": [],
      "collapsed_sections": []
    },
    "kernelspec": {
      "name": "python3",
      "display_name": "Python 3"
    },
    "language_info": {
      "name": "python"
    }
  },
  "cells": [
    {
      "cell_type": "code",
      "metadata": {
        "id": "JlxwMWp79SQq"
      },
      "source": [
        "import warnings\n",
        "warnings.simplefilter(action='ignore', category=FutureWarning)\n",
        "import pandas as pd\n",
        "import numpy as np\n",
        "from scipy import *\n",
        "from sklearn.preprocessing import LabelEncoder\n",
        "from sklearn.preprocessing import OneHotEncoder\n",
        "from sklearn.preprocessing import *\n",
        "from sklearn.model_selection import GridSearchCV\n",
        "from sklearn.model_selection import *\n",
        "from sklearn.metrics import *\n",
        "from sklearn.tree import DecisionTreeClassifier\n",
        "import matplotlib.pyplot as plt\n",
        "import seaborn as sns"
      ],
      "execution_count": null,
      "outputs": []
    },
    {
      "cell_type": "code",
      "metadata": {
        "colab": {
          "base_uri": "https://localhost:8080/",
          "height": 469
        },
        "id": "vVEogcN4_BeC",
        "outputId": "dd898528-69e4-4f1a-b2d4-28005c737014"
      },
      "source": [
        "df_data = pd.read_csv('Salesdata1.csv', sep =',')\n",
        "df_data.head()"
      ],
      "execution_count": null,
      "outputs": [
        {
          "output_type": "execute_result",
          "data": {
            "text/html": [
              "<div>\n",
              "<style scoped>\n",
              "    .dataframe tbody tr th:only-of-type {\n",
              "        vertical-align: middle;\n",
              "    }\n",
              "\n",
              "    .dataframe tbody tr th {\n",
              "        vertical-align: top;\n",
              "    }\n",
              "\n",
              "    .dataframe thead th {\n",
              "        text-align: right;\n",
              "    }\n",
              "</style>\n",
              "<table border=\"1\" class=\"dataframe\">\n",
              "  <thead>\n",
              "    <tr style=\"text-align: right;\">\n",
              "      <th></th>\n",
              "      <th>Order_ID</th>\n",
              "      <th>Order_Priority</th>\n",
              "      <th>Order_Quantity</th>\n",
              "      <th>Sales</th>\n",
              "      <th>Ship_Mode</th>\n",
              "      <th>Profit</th>\n",
              "      <th>Customer_Name</th>\n",
              "      <th>Region</th>\n",
              "      <th>Customer_Segment</th>\n",
              "      <th>Product_Category</th>\n",
              "      <th>Product_Sub-Category</th>\n",
              "      <th>Product_Name</th>\n",
              "      <th>Product_Container</th>\n",
              "    </tr>\n",
              "  </thead>\n",
              "  <tbody>\n",
              "    <tr>\n",
              "      <th>0</th>\n",
              "      <td>643</td>\n",
              "      <td>High</td>\n",
              "      <td>21</td>\n",
              "      <td>2781.82</td>\n",
              "      <td>Express Air</td>\n",
              "      <td>-695.26</td>\n",
              "      <td>Monica Federle</td>\n",
              "      <td>Nunavut</td>\n",
              "      <td>Corporate</td>\n",
              "      <td>Office Supplies</td>\n",
              "      <td>Storage &amp; Organization</td>\n",
              "      <td>SAFCO Commercial Wire Shelving, Black</td>\n",
              "      <td>Large Box</td>\n",
              "    </tr>\n",
              "    <tr>\n",
              "      <th>1</th>\n",
              "      <td>8995</td>\n",
              "      <td>High</td>\n",
              "      <td>35</td>\n",
              "      <td>3389.93</td>\n",
              "      <td>Express Air</td>\n",
              "      <td>737.94</td>\n",
              "      <td>Beth Paige</td>\n",
              "      <td>Northwest Territories</td>\n",
              "      <td>Consumer</td>\n",
              "      <td>Furniture</td>\n",
              "      <td>Office Furnishings</td>\n",
              "      <td>Luxo Professional Combination Clamp-On Lamps</td>\n",
              "      <td>Large Box</td>\n",
              "    </tr>\n",
              "    <tr>\n",
              "      <th>2</th>\n",
              "      <td>9127</td>\n",
              "      <td>Not Specified</td>\n",
              "      <td>7</td>\n",
              "      <td>2039.56</td>\n",
              "      <td>Express Air</td>\n",
              "      <td>-329.49</td>\n",
              "      <td>Bryan Davis</td>\n",
              "      <td>Northwest Territories</td>\n",
              "      <td>Corporate</td>\n",
              "      <td>Office Supplies</td>\n",
              "      <td>Storage &amp; Organization</td>\n",
              "      <td>Tennsco Snap-Together Open Shelving Units, Sta...</td>\n",
              "      <td>Large Box</td>\n",
              "    </tr>\n",
              "    <tr>\n",
              "      <th>3</th>\n",
              "      <td>26272</td>\n",
              "      <td>Low</td>\n",
              "      <td>6</td>\n",
              "      <td>905.94</td>\n",
              "      <td>Express Air</td>\n",
              "      <td>-4.19</td>\n",
              "      <td>Carlos Daly</td>\n",
              "      <td>Northwest Territories</td>\n",
              "      <td>Home Office</td>\n",
              "      <td>Furniture</td>\n",
              "      <td>Chairs &amp; Chairmats</td>\n",
              "      <td>Hon Olson Stacker Stools</td>\n",
              "      <td>Large Box</td>\n",
              "    </tr>\n",
              "    <tr>\n",
              "      <th>4</th>\n",
              "      <td>36646</td>\n",
              "      <td>Medium</td>\n",
              "      <td>24</td>\n",
              "      <td>1168.15</td>\n",
              "      <td>Express Air</td>\n",
              "      <td>-743.96</td>\n",
              "      <td>Muhammed MacIntyre</td>\n",
              "      <td>Northwest Territories</td>\n",
              "      <td>Small Business</td>\n",
              "      <td>Office Supplies</td>\n",
              "      <td>Storage &amp; Organization</td>\n",
              "      <td>Tennsco Industrial Shelving</td>\n",
              "      <td>Large Box</td>\n",
              "    </tr>\n",
              "  </tbody>\n",
              "</table>\n",
              "</div>"
            ],
            "text/plain": [
              "   Order_ID   ... Product_Container\n",
              "0        643  ...         Large Box\n",
              "1       8995  ...         Large Box\n",
              "2       9127  ...         Large Box\n",
              "3      26272  ...         Large Box\n",
              "4      36646  ...         Large Box\n",
              "\n",
              "[5 rows x 13 columns]"
            ]
          },
          "metadata": {
            "tags": []
          },
          "execution_count": 38
        }
      ]
    },
    {
      "cell_type": "code",
      "metadata": {
        "colab": {
          "base_uri": "https://localhost:8080/"
        },
        "id": "aZ0aqXVpN_aD",
        "outputId": "e6f3a461-a6df-4435-dea2-3a0edadc03ae"
      },
      "source": [
        "df_data.columns"
      ],
      "execution_count": null,
      "outputs": [
        {
          "output_type": "execute_result",
          "data": {
            "text/plain": [
              "Index(['Order_ID ', 'Order_Priority', 'Order_Quantity', 'Sales', 'Ship_Mode',\n",
              "       'Profit', 'Customer_Name', 'Region', 'Customer_Segment',\n",
              "       'Product_Category', 'Product_Sub-Category', 'Product_Name',\n",
              "       'Product_Container'],\n",
              "      dtype='object')"
            ]
          },
          "metadata": {
            "tags": []
          },
          "execution_count": 39
        }
      ]
    },
    {
      "cell_type": "code",
      "metadata": {
        "colab": {
          "base_uri": "https://localhost:8080/"
        },
        "id": "OOCzNZXPOTvo",
        "outputId": "03e31acb-75e1-4c7a-a720-44b0e5bb9461"
      },
      "source": [
        "df_data.shape"
      ],
      "execution_count": null,
      "outputs": [
        {
          "output_type": "execute_result",
          "data": {
            "text/plain": [
              "(730, 13)"
            ]
          },
          "metadata": {
            "tags": []
          },
          "execution_count": 42
        }
      ]
    },
    {
      "cell_type": "code",
      "metadata": {
        "colab": {
          "base_uri": "https://localhost:8080/"
        },
        "id": "ev-LJ5pmP2Hj",
        "outputId": "0b08c820-068f-4f6f-e5e1-09752aa567bc"
      },
      "source": [
        "len(df_data['Order_ID '].unique())"
      ],
      "execution_count": null,
      "outputs": [
        {
          "output_type": "execute_result",
          "data": {
            "text/plain": [
              "571"
            ]
          },
          "metadata": {
            "tags": []
          },
          "execution_count": 41
        }
      ]
    },
    {
      "cell_type": "code",
      "metadata": {
        "id": "jeBX5fbcOZ84",
        "colab": {
          "base_uri": "https://localhost:8080/"
        },
        "outputId": "95317bbf-fa3f-421d-9e9e-a41c0e9f86b1"
      },
      "source": [
        "df_id = df_data['Order_ID ']\n",
        "df_data=df_data.drop(columns='Order_ID ')\n",
        "df_data.columns"
      ],
      "execution_count": null,
      "outputs": [
        {
          "output_type": "execute_result",
          "data": {
            "text/plain": [
              "Index(['Order_Priority', 'Order_Quantity', 'Sales', 'Ship_Mode', 'Profit',\n",
              "       'Customer_Name', 'Region', 'Customer_Segment', 'Product_Category',\n",
              "       'Product_Sub-Category', 'Product_Name', 'Product_Container'],\n",
              "      dtype='object')"
            ]
          },
          "metadata": {
            "tags": []
          },
          "execution_count": 43
        }
      ]
    },
    {
      "cell_type": "code",
      "metadata": {
        "colab": {
          "base_uri": "https://localhost:8080/"
        },
        "id": "Uz06Yl4xRORB",
        "outputId": "1f71b6f2-8a6b-4362-d66b-b22a460a7bef"
      },
      "source": [
        "num_cols = df_data._get_numeric_data().columns\n",
        "cont_cols = []\n",
        "for i in num_cols:\n",
        "  if(len(df_data[i].unique())) > int(df_data.shape[0]/25):\n",
        "     cont_cols.append(i)\n",
        "print (cont_cols)"
      ],
      "execution_count": null,
      "outputs": [
        {
          "output_type": "stream",
          "text": [
            "['Order_Quantity', 'Sales', 'Profit']\n"
          ],
          "name": "stdout"
        }
      ]
    },
    {
      "cell_type": "code",
      "metadata": {
        "colab": {
          "base_uri": "https://localhost:8080/"
        },
        "id": "IHIPKQcoRXi_",
        "outputId": "1045689b-8a3f-4fa7-b645-870743a35357"
      },
      "source": [
        "cat_cols = list(set(df_data.columns) - set(cont_cols))\n",
        "cat_cols"
      ],
      "execution_count": null,
      "outputs": [
        {
          "output_type": "execute_result",
          "data": {
            "text/plain": [
              "['Product_Name',\n",
              " 'Product_Sub-Category',\n",
              " 'Ship_Mode',\n",
              " 'Customer_Segment',\n",
              " 'Product_Category',\n",
              " 'Product_Container',\n",
              " 'Region',\n",
              " 'Order_Priority',\n",
              " 'Customer_Name']"
            ]
          },
          "metadata": {
            "tags": []
          },
          "execution_count": 45
        }
      ]
    },
    {
      "cell_type": "code",
      "metadata": {
        "colab": {
          "base_uri": "https://localhost:8080/",
          "height": 300
        },
        "id": "AlxBkE1sRztl",
        "outputId": "64455b18-e157-44b3-b0be-e4b00de64f5a"
      },
      "source": [
        "df_data.describe()"
      ],
      "execution_count": null,
      "outputs": [
        {
          "output_type": "execute_result",
          "data": {
            "text/html": [
              "<div>\n",
              "<style scoped>\n",
              "    .dataframe tbody tr th:only-of-type {\n",
              "        vertical-align: middle;\n",
              "    }\n",
              "\n",
              "    .dataframe tbody tr th {\n",
              "        vertical-align: top;\n",
              "    }\n",
              "\n",
              "    .dataframe thead th {\n",
              "        text-align: right;\n",
              "    }\n",
              "</style>\n",
              "<table border=\"1\" class=\"dataframe\">\n",
              "  <thead>\n",
              "    <tr style=\"text-align: right;\">\n",
              "      <th></th>\n",
              "      <th>Order_Quantity</th>\n",
              "      <th>Sales</th>\n",
              "      <th>Profit</th>\n",
              "    </tr>\n",
              "  </thead>\n",
              "  <tbody>\n",
              "    <tr>\n",
              "      <th>count</th>\n",
              "      <td>730.000000</td>\n",
              "      <td>730.000000</td>\n",
              "      <td>730.000000</td>\n",
              "    </tr>\n",
              "    <tr>\n",
              "      <th>mean</th>\n",
              "      <td>24.857534</td>\n",
              "      <td>1502.777653</td>\n",
              "      <td>207.479233</td>\n",
              "    </tr>\n",
              "    <tr>\n",
              "      <th>std</th>\n",
              "      <td>14.182970</td>\n",
              "      <td>2893.936648</td>\n",
              "      <td>878.631028</td>\n",
              "    </tr>\n",
              "    <tr>\n",
              "      <th>min</th>\n",
              "      <td>1.000000</td>\n",
              "      <td>8.600000</td>\n",
              "      <td>-4437.910000</td>\n",
              "    </tr>\n",
              "    <tr>\n",
              "      <th>25%</th>\n",
              "      <td>13.000000</td>\n",
              "      <td>171.098375</td>\n",
              "      <td>-77.132500</td>\n",
              "    </tr>\n",
              "    <tr>\n",
              "      <th>50%</th>\n",
              "      <td>25.000000</td>\n",
              "      <td>438.700000</td>\n",
              "      <td>0.035000</td>\n",
              "    </tr>\n",
              "    <tr>\n",
              "      <th>75%</th>\n",
              "      <td>37.000000</td>\n",
              "      <td>1480.855000</td>\n",
              "      <td>180.000000</td>\n",
              "    </tr>\n",
              "    <tr>\n",
              "      <th>max</th>\n",
              "      <td>50.000000</td>\n",
              "      <td>27663.920000</td>\n",
              "      <td>8417.570000</td>\n",
              "    </tr>\n",
              "  </tbody>\n",
              "</table>\n",
              "</div>"
            ],
            "text/plain": [
              "       Order_Quantity         Sales       Profit\n",
              "count      730.000000    730.000000   730.000000\n",
              "mean        24.857534   1502.777653   207.479233\n",
              "std         14.182970   2893.936648   878.631028\n",
              "min          1.000000      8.600000 -4437.910000\n",
              "25%         13.000000    171.098375   -77.132500\n",
              "50%         25.000000    438.700000     0.035000\n",
              "75%         37.000000   1480.855000   180.000000\n",
              "max         50.000000  27663.920000  8417.570000"
            ]
          },
          "metadata": {
            "tags": []
          },
          "execution_count": 47
        }
      ]
    },
    {
      "cell_type": "code",
      "metadata": {
        "colab": {
          "base_uri": "https://localhost:8080/",
          "height": 285
        },
        "id": "706sNvxIV0JB",
        "outputId": "b2953345-96ea-4232-c324-ee36377df356"
      },
      "source": [
        "sns.set_theme(style=\"darkgrid\")\n",
        "ax = sns.boxplot(x=df_data[\"Order_Quantity\"])"
      ],
      "execution_count": null,
      "outputs": [
        {
          "output_type": "display_data",
          "data": {
            "image/png": "[encoded data removed]",
            "text/plain": [
              "<Figure size 432x288 with 1 Axes>"
            ]
          },
          "metadata": {
            "tags": []
          }
        }
      ]
    },
    {
      "cell_type": "markdown",
      "metadata": {
        "id": "AntdXJncYiyw"
      },
      "source": [
        "Order Quantity lies between 0 to 50 and the maximum order quantity are between 14(approx) to 35(approx)"
      ]
    },
    {
      "cell_type": "code",
      "metadata": {
        "colab": {
          "base_uri": "https://localhost:8080/",
          "height": 320
        },
        "id": "juxkiNp5Y3xA",
        "outputId": "ff7e469a-d94a-45c8-e1fd-87b4dfc041f8"
      },
      "source": [
        "plt.hist(df_data['Customer_Segment'])"
      ],
      "execution_count": null,
      "outputs": [
        {
          "output_type": "execute_result",
          "data": {
            "text/plain": [
              "(array([518.,   0.,   0., 153.,   0.,   0.,  31.,   0.,   0.,  28.]),\n",
              " array([0. , 0.3, 0.6, 0.9, 1.2, 1.5, 1.8, 2.1, 2.4, 2.7, 3. ]),\n",
              " <a list of 10 Patch objects>)"
            ]
          },
          "metadata": {
            "tags": []
          },
          "execution_count": 63
        },
        {
          "output_type": "display_data",
          "data": {
            "image/png": "[encoded data removed]",
            "text/plain": [
              "<Figure size 432x288 with 1 Axes>"
            ]
          },
          "metadata": {
            "tags": []
          }
        }
      ]
    },
    {
      "cell_type": "markdown",
      "metadata": {
        "id": "PP_YEtUPeN6F"
      },
      "source": [
        "Out of 730 Sales Record;\n",
        "\n",
        "More than 500 orders are from Corporates\n",
        "\n",
        "More than 100 orders are from Consumers\n",
        "\n",
        "Approx 30-40 orders are from Home office\n",
        "\n",
        "Aprox 20-30 orders are from Small Business"
      ]
    },
    {
      "cell_type": "code",
      "metadata": {
        "colab": {
          "base_uri": "https://localhost:8080/",
          "height": 612
        },
        "id": "WS_UnL9ugDip",
        "outputId": "033922a4-0837-414a-91c7-059d0907ec66"
      },
      "source": [
        "fig, ax = plt.subplots(figsize=(20,10))\n",
        "sns.lineplot(data=df_data, x=\"Customer_Segment\", y=\"Sales\",ax=ax,hue=\"Product_Category\")"
      ],
      "execution_count": null,
      "outputs": [
        {
          "output_type": "execute_result",
          "data": {
            "text/plain": [
              "<matplotlib.axes._subplots.AxesSubplot at 0x7f330a90ad90>"
            ]
          },
          "metadata": {
            "tags": []
          },
          "execution_count": 69
        },
        {
          "output_type": "display_data",
          "data": {
            "image/png": "[encoded data removed]",
            "text/plain": [
              "<Figure size 1440x720 with 1 Axes>"
            ]
          },
          "metadata": {
            "tags": []
          }
        }
      ]
    },
    {
      "cell_type": "markdown",
      "metadata": {
        "id": "_FuF91lhqqnn"
      },
      "source": [
        "Sales of Technology are maximum ranging from - 1000 to 11000\n",
        "\n",
        "Sales of furniture ranges from - 1000 to 3000(approx)\n",
        "\n",
        "Sales of office Supplies ranges from - 100 to 2000 "
      ]
    },
    {
      "cell_type": "code",
      "metadata": {
        "colab": {
          "base_uri": "https://localhost:8080/",
          "height": 303
        },
        "id": "B5YWmAUOruwy",
        "outputId": "d8df6a5b-8e5a-4615-9bd4-077252f2eee0"
      },
      "source": [
        "sns.scatterplot(data=df_data, x = \"Profit\", y=\"Sales\")"
      ],
      "execution_count": null,
      "outputs": [
        {
          "output_type": "execute_result",
          "data": {
            "text/plain": [
              "<matplotlib.axes._subplots.AxesSubplot at 0x7f330e756810>"
            ]
          },
          "metadata": {
            "tags": []
          },
          "execution_count": 76
        },
        {
          "output_type": "display_data",
          "data": {
            "image/png": "[encoded data removed]",
            "text/plain": [
              "<Figure size 432x288 with 1 Axes>"
            ]
          },
          "metadata": {
            "tags": []
          }
        }
      ]
    },
    {
      "cell_type": "markdown",
      "metadata": {
        "id": "1SKR9yOGujbe"
      },
      "source": [
        "Profit data is varied in nature but the maximum of the data lies between -1000 to 4000"
      ]
    }
  ]
}